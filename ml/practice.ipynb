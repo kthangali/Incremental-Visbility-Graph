{
 "cells": [
  {
   "cell_type": "code",
   "execution_count": 2,
   "metadata": {},
   "outputs": [],
   "source": [
    "import matplotlib # RVMod\n",
    "matplotlib.use('Agg') # RVMod\n",
    "import matplotlib.pyplot as plt\n",
    "import numpy as np\n",
    "\n",
    "import os\n",
    "import re # For regex"
   ]
  },
  {
   "cell_type": "code",
   "execution_count": 2,
   "metadata": {},
   "outputs": [
    {
     "name": "stdout",
     "output_type": "stream",
     "text": [
      "[[1. 1. 1. 1. 1. 1. 1. 1. 1. 1. 1.]\n",
      " [0. 0. 0. 0. 0. 0. 0. 0. 0. 0. 0.]\n",
      " [0. 0. 0. 0. 0. 0. 0. 0. 0. 0. 0.]\n",
      " [0. 0. 0. 0. 0. 0. 0. 0. 0. 0. 0.]\n",
      " [0. 0. 0. 0. 0. 0. 0. 0. 0. 0. 0.]\n",
      " [0. 0. 0. 0. 0. 0. 0. 0. 0. 0. 0.]\n",
      " [0. 0. 0. 0. 0. 0. 0. 0. 0. 0. 0.]\n",
      " [0. 0. 0. 0. 0. 0. 0. 0. 0. 0. 0.]\n",
      " [0. 0. 0. 0. 0. 0. 0. 0. 0. 0. 0.]\n",
      " [0. 0. 0. 0. 0. 0. 0. 0. 0. 0. 0.]\n",
      " [0. 0. 0. 0. 0. 0. 0. 0. 0. 0. 0.]]\n"
     ]
    }
   ],
   "source": [
    "aLine = \"1,1,1,1,1,1,1,1,1,1,1,\"\n",
    "ans = np.fromstring(aLine, dtype=float, sep=\",\")\n",
    "v2 = np.zeros((11,11))\n",
    "v2[0] = ans\n",
    "print(v2)"
   ]
  },
  {
   "cell_type": "code",
   "execution_count": 3,
   "metadata": {},
   "outputs": [
    {
     "name": "stdout",
     "output_type": "stream",
     "text": [
      "(6912, 11, 11)\n",
      "(6912, 11, 11)\n",
      "(6912,)\n"
     ]
    }
   ],
   "source": [
    "savedDataPath = \"/home/rishi/Desktop/CMU/Research/search-zoo/data.npz\"\n",
    "tmp = np.load(savedDataPath)\n",
    "for aKey in tmp.keys():\n",
    "    print(tmp[aKey].shape)"
   ]
  },
  {
   "cell_type": "code",
   "execution_count": 4,
   "metadata": {},
   "outputs": [],
   "source": [
    "from createDataset import LocalHeuristicDataset\n",
    "dataset = LocalHeuristicDataset(\"/home/rishi/Desktop/CMU/Research/search-zoo/data.npz\", 100, \"improvement\")"
   ]
  },
  {
   "cell_type": "code",
   "execution_count": 32,
   "metadata": {},
   "outputs": [
    {
     "data": {
      "text/plain": [
       "array([[0, 1, 0, 0, 0],\n",
       "       [0, 0, 0, 0, 0],\n",
       "       [1, 0, 0, 0, 0],\n",
       "       [0, 1, 0, 0, 1],\n",
       "       [0, 0, 0, 0, 0]])"
      ]
     },
     "execution_count": 32,
     "metadata": {},
     "output_type": "execute_result"
    }
   ],
   "source": [
    "D = 5\n",
    "obstacleProb = 0.2\n",
    "randmap = np.random.binomial(1, obstacleProb, size=(D,D))\n",
    "\n",
    "ns = 3  # Number of samples\n",
    "randomLocs = np.random.randint(0, D, (ns, 2))\n",
    "randmap"
   ]
  },
  {
   "cell_type": "code",
   "execution_count": 33,
   "metadata": {},
   "outputs": [
    {
     "data": {
      "text/plain": [
       "array([[4, 2],\n",
       "       [0, 1],\n",
       "       [1, 4]])"
      ]
     },
     "execution_count": 33,
     "metadata": {},
     "output_type": "execute_result"
    }
   ],
   "source": [
    "randomLocs"
   ]
  },
  {
   "cell_type": "code",
   "execution_count": 61,
   "metadata": {},
   "outputs": [],
   "source": [
    "valid = np.argwhere(randmap == 0)\n",
    "# tmp = list(valid)\n",
    "# print(tmp)\n",
    "sampleinds = np.random.choice(len(valid), 3, replace=False)"
   ]
  },
  {
   "cell_type": "code",
   "execution_count": 62,
   "metadata": {},
   "outputs": [
    {
     "data": {
      "text/plain": [
       "[(12, 15), (12, 7), (15, 12), (15, 7), (7, 12), (7, 15)]"
      ]
     },
     "execution_count": 62,
     "metadata": {},
     "output_type": "execute_result"
    }
   ],
   "source": [
    "import itertools\n",
    "list(itertools.permutations(sampleinds, 2))"
   ]
  },
  {
   "cell_type": "markdown",
   "metadata": {},
   "source": [
    "### Regex practice below"
   ]
  },
  {
   "cell_type": "code",
   "execution_count": 14,
   "metadata": {},
   "outputs": [
    {
     "name": "stdout",
     "output_type": "stream",
     "text": [
      "[20.0, 9.0, 56.0]\n"
     ]
    }
   ],
   "source": [
    "regexM = re.compile(\"\\((\\d+),(\\d+)\\) (\\d+.*)\")\n",
    "line = \"(20,9) 56.000000\"\n",
    "m = regexM.match(line)\n",
    "# x, y = [float(ag) for ag in m.groups()]\n",
    "print([float(ag) for ag in m.groups()])"
   ]
  },
  {
   "cell_type": "code",
   "execution_count": 14,
   "metadata": {},
   "outputs": [],
   "source": [
    "datapath = \"/home/rishi/Desktop/CMU/Research/search-zoo/logs/test3/data.npz\"\n",
    "data = np.load(datapath)\n",
    "# data = {key:val for key,val in data.items()}"
   ]
  },
  {
   "cell_type": "code",
   "execution_count": 15,
   "metadata": {},
   "outputs": [
    {
     "name": "stdout",
     "output_type": "stream",
     "text": [
      "k\n",
      "map_obs\n",
      "map_hvals\n",
      "x\n",
      "y\n",
      "newHVal\n",
      "mapIndex\n",
      "hvalIndex\n"
     ]
    }
   ],
   "source": [
    "for aKey, aVal in data.items():\n",
    "    print(aKey)"
   ]
  },
  {
   "cell_type": "code",
   "execution_count": 3,
   "metadata": {},
   "outputs": [],
   "source": [
    "tmp = \"(20,5,3) 14.000000\"\n",
    "a, b = tmp[1:].split(\")\")"
   ]
  },
  {
   "cell_type": "code",
   "execution_count": 4,
   "metadata": {},
   "outputs": [
    {
     "data": {
      "text/plain": [
       "['20', '5', '3']"
      ]
     },
     "execution_count": 4,
     "metadata": {},
     "output_type": "execute_result"
    }
   ],
   "source": [
    "a.split(\",\")"
   ]
  },
  {
   "cell_type": "code",
   "execution_count": null,
   "metadata": {},
   "outputs": [],
   "source": []
  }
 ],
 "metadata": {
  "interpreter": {
   "hash": "92f484522067df6a979266cb65609a3d90f920537f38cb72c4c89667b798328a"
  },
  "kernelspec": {
   "display_name": "Python 3.9.7 ('pytorchfun')",
   "language": "python",
   "name": "python3"
  },
  "language_info": {
   "codemirror_mode": {
    "name": "ipython",
    "version": 3
   },
   "file_extension": ".py",
   "mimetype": "text/x-python",
   "name": "python",
   "nbconvert_exporter": "python",
   "pygments_lexer": "ipython3",
   "version": "3.9.7"
  },
  "orig_nbformat": 4
 },
 "nbformat": 4,
 "nbformat_minor": 2
}
